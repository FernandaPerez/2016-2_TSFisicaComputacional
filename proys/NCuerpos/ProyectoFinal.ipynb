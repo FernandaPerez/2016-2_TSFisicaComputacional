{
 "cells": [
  {
   "cell_type": "markdown",
   "metadata": {},
   "source": [
    "# Proyecto Final: Integración de 3 o más cuerpos\n",
    "\n",
    "- Carlos Daniel López Mimenza (**@SirSilverCharles**)\n",
    "- Daniel Martínez Urrieta (**@danmarurr**)\n",
    "- María Fernanda Pérez Ramírez (**@FernandaPerez**)"
   ]
  },
  {
   "cell_type": "markdown",
   "metadata": {},
   "source": [
    "Para el problema de $N$ cuerpos, consideremos las ecuaciones de movimiento para cada una ellas (con la posición $\\vec{q}_i$, masa $m_i$), suponiendo que las partículas se encuentran en el mismo plano (2D):\n",
    "\n",
    "\\begin{align}\n",
    "    m_i \\frac{{\\rm d}^2\\vec{q}_i}{{\\rm d}t^2} = \\sum_{i \\neq j} \\frac{Gm_im_j}{||\\vec{q}_i - \\vec{q}_j||^3}(\\vec{q}_i - \\vec{q}_j)\n",
    "\\end{align}"
   ]
  },
  {
   "cell_type": "code",
   "execution_count": null,
   "metadata": {
    "collapsed": true
   },
   "outputs": [],
   "source": []
  }
 ],
 "metadata": {
  "kernelspec": {
   "display_name": "Julia 0.4.2",
   "language": "julia",
   "name": "julia-0.4"
  },
  "language_info": {
   "file_extension": ".jl",
   "mimetype": "application/julia",
   "name": "julia",
   "version": "0.4.5"
  }
 },
 "nbformat": 4,
 "nbformat_minor": 0
}
