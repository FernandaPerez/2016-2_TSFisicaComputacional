{
 "cells": [
  {
   "cell_type": "markdown",
   "metadata": {},
   "source": [
    "# Proyecto Final: Integración de 3 o más cuerpos\n",
    "\n",
    "- Carlos Daniel López Mimenza (**@SirSilverCharles**)\n",
    "- Daniel Martínez Urrieta (**@danmarurr**)\n",
    "- María Fernanda Pérez Ramírez (**@FernandaPerez**)"
   ]
  },
  {
   "cell_type": "markdown",
   "metadata": {},
   "source": [
    "Para el problema de $N$ cuerpos, consideremos las ecuaciones de movimiento para cada una ellas (con la posición $\\vec{q}_i$, masa $m_i$), suponiendo que las partículas se encuentran en el mismo plano (2D):\n",
    "\n",
    "\\begin{align}\n",
    "    m_i \\frac{{\\rm d}^2\\vec{q}_i}{{\\rm d}t^2} = \\sum_{i \\neq j} \\frac{Gm_im_j}{||\\vec{q}_i - \\vec{q}_j||^3}(\\vec{q}_i - \\vec{q}_j)\n",
    "\\end{align}"
   ]
  },
  {
   "cell_type": "markdown",
   "metadata": {},
   "source": [
    "## Caso más simple: Tres cuerpos.\n",
    "\n",
    "Para éste caso, tendremos que las ecuaciones que describen las trayectorias de las partículas son:\n",
    "\n",
    "\\begin{align}\n",
    "    \\ddot{\\mathbf{x}}_1 &= - \\frac{Gm_2}{(x_1 - x_2)^3}(\\mathbf{x}_1 - \\mathbf{x}_2) - \\frac{Gm_3}{(x_1 - x_3)^3}(\\mathbf{x}_1 - \\mathbf{x}_3)\\\\\n",
    "    \\ddot{\\mathbf{x}}_2 &= - \\frac{Gm_3}{(x_2 - x_3)^3}(\\mathbf{x}_2 - \\mathbf{x}_3) - \\frac{Gm_1}{(x_2 - x_1)^3}(\\mathbf{x}_2 - \\mathbf{x}_1)\\\\\n",
    "    \\ddot{\\mathbf{x}}_3 &= - \\frac{Gm_1}{(x_3 - x_1)^3}(\\mathbf{x}_3 - \\mathbf{x}_1) - \\frac{Gm_2}{(x_3 - x_2)^3}(\\mathbf{x}_3 - \\mathbf{x}_2)\n",
    "\\end{align}\n",
    "\n",
    "Para tomar sólo ecuaciones de primer orden (y así usar Taylor) implementamos además que:\n",
    "\\begin{align}\n",
    "    \\dot{\\mathbf{v}}_j = \\ddot{\\mathbf{x}}_j \\ \\ \\Rightarrow \\dot{\\mathbf{x}}_j = \\mathbf{v}_j\n",
    "\\end{align}"
   ]
  },
  {
   "cell_type": "code",
   "execution_count": null,
   "metadata": {
    "collapsed": true
   },
   "outputs": [],
   "source": []
  }
 ],
 "metadata": {
  "kernelspec": {
   "display_name": "Julia 0.4.2",
   "language": "julia",
   "name": "julia-0.4"
  },
  "language_info": {
   "file_extension": ".jl",
   "mimetype": "application/julia",
   "name": "julia",
   "version": "0.4.5"
  }
 },
 "nbformat": 4,
 "nbformat_minor": 0
}
