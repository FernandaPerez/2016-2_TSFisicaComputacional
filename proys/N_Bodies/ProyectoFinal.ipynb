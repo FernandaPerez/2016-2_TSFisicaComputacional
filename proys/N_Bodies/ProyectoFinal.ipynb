{
 "cells": [
  {
   "cell_type": "markdown",
   "metadata": {},
   "source": [
    "# Proyecto Final: Integración de 3 o más cuerpos\n",
    "\n",
    "- Carlos Daniel López Mimenza (**@SirSilverCharles**)\n",
    "- Daniel Martínez Urrieta (**@danmarurr**)\n",
    "- María Fernanda Pérez Ramírez (**@FernandaPerez**)"
   ]
  },
  {
   "cell_type": "markdown",
   "metadata": {},
   "source": [
    "Para el problema de $N$ cuerpos, consideremos las ecuaciones de movimiento para cada una ellas (con la posición $\\vec{q}_i$, masa $m_i$), suponiendo que las partículas se encuentran en el mismo plano (2D):\n",
    "\n",
    "\\begin{align}\n",
    "    m_i \\frac{{\\rm d}^2\\vec{q}_i}{{\\rm d}t^2} = \\sum_{i \\neq j} \\frac{Gm_im_j}{||\\vec{q}_i - \\vec{q}_j||^3}(\\vec{q}_i - \\vec{q}_j)\n",
    "\\end{align}"
   ]
  },
  {
   "cell_type": "markdown",
   "metadata": {},
   "source": [
    "## Caso más simple: Tres cuerpos.\n",
    "\n",
    "Para éste caso, tendremos que las ecuaciones que describen las trayectorias de las partículas son:\n",
    "\n",
    "\\begin{align}\n",
    "    \\ddot{\\mathbf{x}}_1 &= - \\frac{Gm_2}{(x_1 - x_2)^3}(\\mathbf{x}_1 - \\mathbf{x}_2) - \\frac{Gm_3}{(x_1 - x_3)^3}(\\mathbf{x}_1 - \\mathbf{x}_3)\\\\\n",
    "    \\ddot{\\mathbf{x}}_2 &= - \\frac{Gm_3}{(x_2 - x_3)^3}(\\mathbf{x}_2 - \\mathbf{x}_3) - \\frac{Gm_1}{(x_2 - x_1)^3}(\\mathbf{x}_2 - \\mathbf{x}_1)\\\\\n",
    "    \\ddot{\\mathbf{x}}_3 &= - \\frac{Gm_1}{(x_3 - x_1)^3}(\\mathbf{x}_3 - \\mathbf{x}_1) - \\frac{Gm_2}{(x_3 - x_2)^3}(\\mathbf{x}_3 - \\mathbf{x}_2)\n",
    "\\end{align}\n",
    "\n",
    "Para tomar sólo ecuaciones de primer orden (y así usar Taylor) implementamos además que:\n",
    "\\begin{align}\n",
    "    \\dot{\\mathbf{v}}_j = \\ddot{\\mathbf{x}}_j \\ \\ \\Rightarrow \\dot{\\mathbf{x}}_j = \\mathbf{v}_j\n",
    "\\end{align}"
   ]
  },
  {
   "cell_type": "code",
   "execution_count": 1,
   "metadata": {
    "collapsed": true
   },
   "outputs": [],
   "source": [
    "using TaylorSeries\n",
    "using PyPlot"
   ]
  },
  {
   "cell_type": "code",
   "execution_count": 2,
   "metadata": {
    "collapsed": false
   },
   "outputs": [
    {
     "data": {
      "text/plain": [
       " 1 + 𝒪(t¹)"
      ]
     },
     "execution_count": 2,
     "metadata": {},
     "output_type": "execute_result"
    }
   ],
   "source": [
    "x = Taylor1([1])"
   ]
  },
  {
   "cell_type": "code",
   "execution_count": 3,
   "metadata": {
    "collapsed": false
   },
   "outputs": [
    {
     "data": {
      "text/plain": [
       "0"
      ]
     },
     "execution_count": 3,
     "metadata": {},
     "output_type": "execute_result"
    }
   ],
   "source": [
    "x.order"
   ]
  },
  {
   "cell_type": "code",
   "execution_count": 4,
   "metadata": {
    "collapsed": false
   },
   "outputs": [
    {
     "data": {
      "text/plain": [
       "2.220446049250313e-16"
      ]
     },
     "execution_count": 4,
     "metadata": {},
     "output_type": "execute_result"
    }
   ],
   "source": [
    "eps(1.)"
   ]
  },
  {
   "cell_type": "code",
   "execution_count": 5,
   "metadata": {
    "collapsed": false
   },
   "outputs": [],
   "source": [
    "#Agrego Línea para instalar modulo de Taylor (cortesia de Luis)\n",
    "#Pkg.add(\"TaylorSeries\")"
   ]
  },
  {
   "cell_type": "code",
   "execution_count": 6,
   "metadata": {
    "collapsed": false
   },
   "outputs": [
    {
     "ename": "LoadError",
     "evalue": "LoadError: UndefVarError: functin not defined\nwhile loading In[6], in expression starting on line 20",
     "output_type": "error",
     "traceback": [
      "LoadError: UndefVarError: functin not defined\nwhile loading In[6], in expression starting on line 20",
      ""
     ]
    }
   ],
   "source": [
    "const epsilon = 1.0e-20\n",
    "\n",
    "function paso_int{T<:Real}(x_0::Taylor1{T})\n",
    "    orden = x_0.order\n",
    "    h1 = (epsilon/abs(x_0.coeffs[orden + 1]))^(1/orden) \n",
    "    h2 = (epsilon/abs(x_0.coeffs[orden]))^(1/(orden - 1))\n",
    "    min(h1, h2)\n",
    "end\n",
    "\n",
    "function Horner{T<:Real, S<:Real}(x_0::Taylor1{S}, h::T)\n",
    "    n = x_0.order\n",
    "    suma = zeros(n)\n",
    "    suma[1] = x_0.coeffs[n]\n",
    "    for j in 2:n\n",
    "        suma[j] = x_0.coeffs[n + 1 - j] + h*suma[j - 1]\n",
    "    end\n",
    "    suma[n]\n",
    "end\n",
    "\n",
    "functin"
   ]
  },
  {
   "cell_type": "code",
   "execution_count": 7,
   "metadata": {
    "collapsed": false
   },
   "outputs": [
    {
     "data": {
      "text/plain": [
       "Integrador_1 (generic function with 1 method)"
      ]
     },
     "execution_count": 7,
     "metadata": {},
     "output_type": "execute_result"
    }
   ],
   "source": [
    "function Integrador_1(pos_iniciales, vel_ini, masas::Array{Float64,1}, t0::Float64, tf::Float64, p::Int)\n",
    "    #Para ahorrar al momento de escribir los nombres se indicarán así: pi donde i es el número de cuerpo,\n",
    "    # y p inidica si es posición o velocidad\n",
    "    #Creamos los arreglos con los tiempos y las soluciones\n",
    "    const G = 1\n",
    "    v1 = typeof(vel_ini[1])[vel_ini[1]]\n",
    "    v2 = typeof(vel_ini[2])[vel_ini[2]]\n",
    "    v3 = typeof(vel_ini[3])[vel_ini[3]]\n",
    "    p1 = typeof(pos_iniciales[1])[pos_iniciales[1]]\n",
    "    p2 = typeof(pos_iniciales[2])[pos_iniciales[2]]\n",
    "    p3 = typeof(pos_iniciales[3])[pos_iniciales[3]]\n",
    "    ts = Float64[t0] #arreglo inicial para los tiempos\n",
    "    \n",
    "    m1 = masas[1]\n",
    "    m2 = masas[2]\n",
    "    m3 = masas[3]\n",
    "    \n",
    "    t = t0\n",
    "    h = 1\n",
    "    \n",
    "    while t <= tf && h > 1e-8\n",
    "        #Creo arreglos de cada parámetro\n",
    "        arr_x1 = Float64[p1[end][1]]\n",
    "        arr_x2 = Float64[p2[end][1]]\n",
    "        arr_x3 = Float64[p3[end][1]]\n",
    "        arr_y1 = Float64[p1[end][2]]\n",
    "        arr_y2 = Float64[p2[end][2]]\n",
    "        arr_y3 = Float64[p3[end][2]]\n",
    "        \n",
    "        arr_vx1 = Float64[v1[end][1]]\n",
    "        arr_vx2 = Float64[v2[end][1]]\n",
    "        arr_vx3 = Float64[v3[end][1]]\n",
    "        arr_vy1 = Float64[v1[end][2]]\n",
    "        arr_vy2 = Float64[v2[end][2]]\n",
    "        arr_vy3 = Float64[v3[end][2]]\n",
    "        \n",
    "        #Creo Taylor's para cada parámetro\n",
    "        for j in 1:p\n",
    "            Taylor_arr_x1 = Taylor1(arr_x1)\n",
    "            Taylor_arr_x2 = Taylor1(arr_x2)\n",
    "            Taylor_arr_x3 = Taylor1(arr_x3)\n",
    "            Taylor_arr_y1 = Taylor1(arr_y1)\n",
    "            Taylor_arr_y2 = Taylor1(arr_y2)\n",
    "            Taylor_arr_y3 = Taylor1(arr_y3)\n",
    "            Taylor_arr_vx1 = Taylor1(arr_vx1)\n",
    "            Taylor_arr_vx2 = Taylor1(arr_vx2)\n",
    "            Taylor_arr_vx3 = Taylor1(arr_vx3)\n",
    "            Taylor_arr_vy1 = Taylor1(arr_vy1)\n",
    "            Taylor_arr_vy2 = Taylor1(arr_vy2)\n",
    "            Taylor_arr_vy3 = Taylor1(arr_vy3)\n",
    "            \n",
    "            \n",
    "            #@show Taylor_arr_x1          \n",
    "            ##Definimos la operación de las 6 ecs de movimiento.\n",
    "            \n",
    "            \n",
    "            r12 = ((Taylor_arr_x1 - Taylor_arr_x2)^2 + (Taylor_arr_y1 - Taylor_arr_y2)^2)^(1/2)\n",
    "            r13 = ((Taylor_arr_x1 - Taylor_arr_x3)^2 + (Taylor_arr_y1 - Taylor_arr_y3)^2)^(1/2)\n",
    "            r23 = ((Taylor_arr_x2 - Taylor_arr_x3)^2 + (Taylor_arr_y2 - Taylor_arr_y3)^2)^(1/2)\n",
    "            \n",
    "            #@show r12, r3, r23       \n",
    "            \n",
    "            #Para el cuerpo 1\n",
    "            fx1 = -G*(m2*(Taylor_arr_x1 - Taylor_arr_x2)/(r12)^3 + m3*(Taylor_arr_x1 - Taylor_arr_x3)/(r13)^3)\n",
    "            fy1 = -G*(m2*(Taylor_arr_y1 - Taylor_arr_y2)/(r12)^3 + m3*(Taylor_arr_y1 - Taylor_arr_y3)/(r13)^3)\n",
    "            #Para el cuerpo 2\n",
    "            fx2 = -G*(m3*(Taylor_arr_x2 - Taylor_arr_x3)/(r23)^3 + m1*(Taylor_arr_x2 - Taylor_arr_x1)/(r12)^3)\n",
    "            fy2 = -G*(m3*(Taylor_arr_y2 - Taylor_arr_y3)/(r23)^3 + m1*(Taylor_arr_y2 - Taylor_arr_y1)/(r12)^3)\n",
    "            #Para el cuerpo 3\n",
    "            fx3 = -G*(m1*(Taylor_arr_x3 - Taylor_arr_x1)/(r13)^3 + m2*(Taylor_arr_x3 - Taylor_arr_x2)/(r23)^3)\n",
    "            fy3 = -G*(m1*(Taylor_arr_y3 - Taylor_arr_y1)/(r13)^3 + m2*(Taylor_arr_y3 - Taylor_arr_y2)/(r23)^3)\n",
    "            \n",
    "            \n",
    "            #Incluimos los nuevos coeficientes\n",
    "            arr_x1 = push!(arr_x1, Taylor_arr_vx1.coeffs[j]/j)\n",
    "            arr_x2 = push!(arr_x2, Taylor_arr_vx2.coeffs[j]/j)\n",
    "            arr_x3 = push!(arr_x3, Taylor_arr_vx3.coeffs[j]/j)\n",
    "            arr_y1 = push!(arr_y1, Taylor_arr_vy1.coeffs[j]/j)\n",
    "            arr_y2 = push!(arr_y2, Taylor_arr_vy2.coeffs[j]/j)\n",
    "            arr_y3 = push!(arr_y3, Taylor_arr_vy3.coeffs[j]/j)\n",
    "            arr_vx1 =push!(arr_vx1, fx1.coeffs[j]/j)\n",
    "            arr_vx2 =push!(arr_vx2, fx2.coeffs[j]/j)\n",
    "            arr_vx3 =push!(arr_vx3, fx3.coeffs[j]/j)\n",
    "            arr_vy1 =push!(arr_vy1, fy1.coeffs[j]/j)\n",
    "            arr_vy2 =push!(arr_vy2, fy2.coeffs[j]/j)\n",
    "            arr_vy3 =push!(arr_vy3, fy3.coeffs[j]/j)\n",
    "        end\n",
    "        #Hacemos Taylor de todos los arreglos finales\n",
    "        Taylor_arr_x1 = Taylor1(arr_x1)\n",
    "        Taylor_arr_x2 = Taylor1(arr_x2)\n",
    "        Taylor_arr_x3 = Taylor1(arr_x3)\n",
    "        Taylor_arr_y1 = Taylor1(arr_y1)\n",
    "        Taylor_arr_y2 = Taylor1(arr_y2)\n",
    "        Taylor_arr_y3 = Taylor1(arr_y3)\n",
    "        Taylor_arr_vx1 = Taylor1(arr_vx1)\n",
    "        Taylor_arr_vx2 = Taylor1(arr_vx2)\n",
    "        Taylor_arr_vx3 = Taylor1(arr_vx3)\n",
    "        Taylor_arr_vy1 = Taylor1(arr_vy1)\n",
    "        Taylor_arr_vy2 = Taylor1(arr_vy2)\n",
    "        Taylor_arr_vy3 = Taylor1(arr_vy3)\n",
    "\n",
    "        \n",
    "        #Calculamos todas las h's posibles        \n",
    "        h1 = paso_int(Taylor_arr_x1)\n",
    "        h2 = paso_int(Taylor_arr_x2)\n",
    "        h3 = paso_int(Taylor_arr_x3)\n",
    "        h4 = paso_int(Taylor_arr_y1)\n",
    "        h5 = paso_int(Taylor_arr_y2)\n",
    "        h6 = paso_int(Taylor_arr_y3) \n",
    "        h7 = paso_int(Taylor_arr_vx1)\n",
    "        h8 = paso_int(Taylor_arr_vx2)\n",
    "        h9 = paso_int(Taylor_arr_vx3)\n",
    "        h10 = paso_int(Taylor_arr_vy1)\n",
    "        h11 = paso_int(Taylor_arr_vy2)\n",
    "        h12 = paso_int(Taylor_arr_vy3)\n",
    "        \n",
    "        \n",
    "        #Elegimos el h más pequeño\n",
    "        h = min(h1, h2, h3, h4, h5, h6, h7, h8, h9, h10, h11, h12)\n",
    "        t += h\n",
    "        #Calculamos el siguiente paso usando Horner\n",
    "        x1 = evaluate(Taylor_arr_x1, h)\n",
    "        x2 = evaluate(Taylor_arr_x2, h)\n",
    "        x3 = evaluate(Taylor_arr_x3, h)\n",
    "        y1 = evaluate(Taylor_arr_y1, h)\n",
    "        y2 = evaluate(Taylor_arr_y2, h)\n",
    "        y3 = evaluate(Taylor_arr_y3, h)\n",
    "        vx1 = evaluate(Taylor_arr_vx1, h)\n",
    "        vx2 = evaluate(Taylor_arr_vx2, h)\n",
    "        vx3 = evaluate(Taylor_arr_vx3, h)\n",
    "        vy1 = evaluate(Taylor_arr_vy1, h)\n",
    "        vy2 = evaluate(Taylor_arr_vy2, h)\n",
    "        vy3 = evaluate(Taylor_arr_vy3, h)\n",
    "        \n",
    "        #Revisamos que no salgan singularidades\n",
    "        \n",
    "        \n",
    "        #Creamos vectores para la posicion y la velocidad de cada cuerpo\n",
    "        p1_temp = Float64[x1, y1]\n",
    "        p2_temp = Float64[x2, y2]\n",
    "        p3_temp = Float64[x3, y3]\n",
    "        v1_temp = Float64[vx1, vy1]\n",
    "        v2_temp = Float64[vx2, vy2]\n",
    "        v3_temp = Float64[vx3, vy3]\n",
    "        \n",
    "        #Agregamos nueva información de tiempos, posiciones y velocidades\n",
    "        p1 = push!(p1, p1_temp)\n",
    "        p2 = push!(p2, p2_temp)\n",
    "        p3 = push!(p3, p3_temp)\n",
    "        v1 = push!(v1, v1_temp)\n",
    "        v2 = push!(v2, v2_temp)\n",
    "        v3 = push!(v3, v3_temp)\n",
    "        ts = push!(ts, t)\n",
    "    end\n",
    "    #Creamos arreglos con toda la información de los cuerpos\n",
    "    cuerpo1 = typeof(p1)[p1, v1]\n",
    "    cuerpo2 = typeof(p2)[p2, v2]\n",
    "    cuerpo3 = typeof(p3)[p3, v3]\n",
    "    \n",
    "    ts, cuerpo1, cuerpo2, cuerpo3\n",
    "end"
   ]
  },
  {
   "cell_type": "code",
   "execution_count": 8,
   "metadata": {
    "collapsed": false
   },
   "outputs": [],
   "source": [
    "#Primera configuración de cuerpos:\n",
    "prueba1_masas = [1., 1., 1.]\n",
    "prueba1_p1 = [1.0, 0.0]\n",
    "prueba1_p2 = [-0.5,sqrt(3)/2]\n",
    "prueba1_p3 = [-0.5,-sqrt(3)/2]\n",
    "prueba1_v1 = [0.,-1.]\n",
    "prueba1_v2 = [sqrt(3)/2, 0.5]\n",
    "prueba1_v3 = [-sqrt(3)/2, 0.5]\n",
    "prueba1_pos = typeof(prueba1_p1)[prueba1_p1, prueba1_p2, prueba1_p3]\n",
    "prueba1_vel = typeof(prueba1_v1)[prueba1_v1, prueba1_v2, prueba1_v3];"
   ]
  },
  {
   "cell_type": "code",
   "execution_count": 9,
   "metadata": {
    "collapsed": true
   },
   "outputs": [],
   "source": [
    "prueba2_masas = [200., 1., 0.001]\n",
    "prueba2_p1 = [0.0, 0.0]\n",
    "prueba2_p2 = [1.42,0.]\n",
    "prueba2_p3 = [1.66,0.]\n",
    "prueba2_v1 = [0.,0.]\n",
    "prueba2_v2 = [0.,10.]\n",
    "prueba2_v3 = [0.,7.]\n",
    "prueba2_pos = typeof(prueba2_p1)[prueba2_p1, prueba2_p2, prueba2_p3]\n",
    "prueba2_vel = typeof(prueba2_v1)[prueba2_v1, prueba2_v2, prueba2_v3];"
   ]
  },
  {
   "cell_type": "code",
   "execution_count": 10,
   "metadata": {
    "collapsed": false
   },
   "outputs": [
    {
     "name": "stdout",
     "output_type": "stream",
     "text": [
      "  0.033973 seconds (416.19 k allocations: 36.128 MB, 16.84% gc time)\n"
     ]
    }
   ],
   "source": [
    "ts1, c11, c21, c31 = Integrador_1(prueba1_pos, prueba1_vel, prueba1_masas, 0., 100., 28);\n",
    "@time ts1, c11, c21, c31 = Integrador_1(prueba1_pos, prueba1_vel, prueba1_masas, 0., 100., 28);"
   ]
  },
  {
   "cell_type": "code",
   "execution_count": 11,
   "metadata": {
    "collapsed": false
   },
   "outputs": [],
   "source": [
    "pos_1 = c11[1]\n",
    "x_1 = [j[1] for j in pos_1]\n",
    "y_1 = [j[2] for j in pos_1]\n",
    "pos_2 = c21[1]\n",
    "x_2 = [j[1] for j in pos_2]\n",
    "y_2 = [j[2] for j in pos_2]\n",
    "pos_3 = c31[1]\n",
    "x_3 = [j[1] for j in pos_3]\n",
    "y_3 = [j[2] for j in pos_3];"
   ]
  },
  {
   "cell_type": "code",
   "execution_count": 12,
   "metadata": {
    "collapsed": false
   },
   "outputs": [
    {
     "data": {
      "text/plain": [
       "61"
      ]
     },
     "execution_count": 12,
     "metadata": {},
     "output_type": "execute_result"
    }
   ],
   "source": [
    "length(x_3)"
   ]
  },
  {
   "cell_type": "code",
   "execution_count": 13,
   "metadata": {
    "collapsed": false
   },
   "outputs": [
    {
     "data": {
      "image/png": "[encoded data removed]",
      "text/plain": [
       "PyPlot.Figure(PyObject <matplotlib.figure.Figure object at 0x7fc580566400>)"
      ]
     },
     "metadata": {},
     "output_type": "display_data"
    }
   ],
   "source": [
    "plot(x_1,y_1, marker = \".\", linestyle =\"\", label =\"Cuerpo 1\")\n",
    "plot(x_2,y_2, marker = \".\", linestyle =\"\", label =\"Cuerpo 2\")\n",
    "plot(x_3,y_3, marker = \".\", linestyle =\"\", label =\"Cuerpo 3\")\n",
    "legend(loc=\"auto\")\n",
    "show()"
   ]
  },
  {
   "cell_type": "code",
   "execution_count": 14,
   "metadata": {
    "collapsed": true
   },
   "outputs": [],
   "source": [
    "ts2, c12, c22, c32 = Integrador_1(prueba2_pos, prueba2_vel, prueba2_masas, 0., 1., 28)\n",
    "pos_1b = c12[1]\n",
    "x_1b = [j[1] for j in pos_1b]\n",
    "y_1b = [j[2] for j in pos_1b]\n",
    "pos_2b = c22[1]\n",
    "x_2b = [j[1] for j in pos_2b]\n",
    "y_2b = [j[2] for j in pos_2b]\n",
    "pos_3b = c32[1]\n",
    "x_3b = [j[1] for j in pos_3b]\n",
    "y_3b = [j[2] for j in pos_3b];"
   ]
  },
  {
   "cell_type": "code",
   "execution_count": 15,
   "metadata": {
    "collapsed": false
   },
   "outputs": [
    {
     "data": {
      "text/plain": [
       "84"
      ]
     },
     "execution_count": 15,
     "metadata": {},
     "output_type": "execute_result"
    }
   ],
   "source": [
    "length(ts2)"
   ]
  },
  {
   "cell_type": "code",
   "execution_count": 16,
   "metadata": {
    "collapsed": false
   },
   "outputs": [
    {
     "data": {
      "image/png": "[encoded data removed]",
      "text/plain": [
       "PyPlot.Figure(PyObject <matplotlib.figure.Figure object at 0x7fc5804d72b0>)"
      ]
     },
     "metadata": {},
     "output_type": "display_data"
    }
   ],
   "source": [
    "plot(x_1b,y_1b, marker = \".\", linestyle =\"\", label =\"Cuerpo 1\")\n",
    "plot(x_2b,y_2b, marker = \".\", linestyle =\"\", label =\"Cuerpo 2\")\n",
    "plot(x_3b,y_3b, marker = \".\", linestyle =\"\", label =\"Cuerpo 3\")\n",
    "legend(loc=\"auto\")\n",
    "show()"
   ]
  },
  {
   "cell_type": "code",
   "execution_count": null,
   "metadata": {
    "collapsed": true
   },
   "outputs": [],
   "source": []
  }
 ],
 "metadata": {
  "kernelspec": {
   "display_name": "Julia 0.4.5",
   "language": "julia",
   "name": "julia-0.4"
  },
  "language_info": {
   "file_extension": ".jl",
   "mimetype": "application/julia",
   "name": "julia",
   "version": "0.4.5"
  }
 },
 "nbformat": 4,
 "nbformat_minor": 0
}
