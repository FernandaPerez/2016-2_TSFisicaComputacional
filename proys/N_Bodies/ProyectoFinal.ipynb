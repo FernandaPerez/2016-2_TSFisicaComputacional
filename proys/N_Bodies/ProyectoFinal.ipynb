{
 "cells": [
  {
   "cell_type": "markdown",
   "metadata": {},
   "source": [
    "# Proyecto Final: Integración de 3 o más cuerpos\n",
    "\n",
    "- Carlos Daniel López Mimenza (**@SirSilverCharles**)\n",
    "- Daniel Martínez Urrieta (**@danmarurr**)\n",
    "- María Fernanda Pérez Ramírez (**@FernandaPerez**)"
   ]
  },
  {
   "cell_type": "markdown",
   "metadata": {},
   "source": [
    "Para el problema de $N$ cuerpos, consideremos las ecuaciones de movimiento para cada una ellas (con la posición $\\vec{q}_i$, masa $m_i$), suponiendo que las partículas se encuentran en el mismo plano (2D):\n",
    "\n",
    "\\begin{align}\n",
    "    m_i \\frac{{\\rm d}^2\\vec{q}_i}{{\\rm d}t^2} = \\sum_{i \\neq j} \\frac{Gm_im_j}{||\\vec{q}_i - \\vec{q}_j||^3}(\\vec{q}_i - \\vec{q}_j)\n",
    "\\end{align}"
   ]
  },
  {
   "cell_type": "markdown",
   "metadata": {},
   "source": [
    "## Caso más simple: Tres cuerpos.\n",
    "\n",
    "Para éste caso, tendremos que las ecuaciones que describen las trayectorias de las partículas son:\n",
    "\n",
    "\\begin{align}\n",
    "    \\ddot{\\mathbf{x}}_1 &= - \\frac{Gm_2}{(x_1 - x_2)^3}(\\mathbf{x}_1 - \\mathbf{x}_2) - \\frac{Gm_3}{(x_1 - x_3)^3}(\\mathbf{x}_1 - \\mathbf{x}_3)\\\\\n",
    "    \\ddot{\\mathbf{x}}_2 &= - \\frac{Gm_3}{(x_2 - x_3)^3}(\\mathbf{x}_2 - \\mathbf{x}_3) - \\frac{Gm_1}{(x_2 - x_1)^3}(\\mathbf{x}_2 - \\mathbf{x}_1)\\\\\n",
    "    \\ddot{\\mathbf{x}}_3 &= - \\frac{Gm_1}{(x_3 - x_1)^3}(\\mathbf{x}_3 - \\mathbf{x}_1) - \\frac{Gm_2}{(x_3 - x_2)^3}(\\mathbf{x}_3 - \\mathbf{x}_2)\n",
    "\\end{align}\n",
    "\n",
    "Para tomar sólo ecuaciones de primer orden (y así usar Taylor) implementamos además que:\n",
    "\\begin{align}\n",
    "    \\dot{\\mathbf{v}}_j = \\ddot{\\mathbf{x}}_j \\ \\ \\Rightarrow \\dot{\\mathbf{x}}_j = \\mathbf{v}_j\n",
    "\\end{align}"
   ]
  },
  {
   "cell_type": "code",
   "execution_count": 1,
   "metadata": {
    "collapsed": false
   },
   "outputs": [
    {
     "ename": "LoadError",
     "evalue": "LoadError: UndefVarError: Taylor1 not defined\nwhile loading In[1], in expression starting on line 1",
     "output_type": "error",
     "traceback": [
      "LoadError: UndefVarError: Taylor1 not defined\nwhile loading In[1], in expression starting on line 1",
      ""
     ]
    }
   ],
   "source": [
    "x = Taylor1([0.,1,0])"
   ]
  },
  {
   "cell_type": "code",
   "execution_count": 2,
   "metadata": {
    "collapsed": false
   },
   "outputs": [
    {
     "ename": "LoadError",
     "evalue": "LoadError: UndefVarError: x not defined\nwhile loading In[2], in expression starting on line 1",
     "output_type": "error",
     "traceback": [
      "LoadError: UndefVarError: x not defined\nwhile loading In[2], in expression starting on line 1",
      ""
     ]
    }
   ],
   "source": [
    "x.coeffs"
   ]
  },
  {
   "cell_type": "code",
   "execution_count": 3,
   "metadata": {
    "collapsed": false
   },
   "outputs": [],
   "source": [
    "#Agrego Línea para instalar modulo de Taylor (cortesia de Luis)\n",
    "#Pkg.add(\"TaylorSeries\")"
   ]
  },
  {
   "cell_type": "code",
   "execution_count": 4,
   "metadata": {
    "collapsed": true
   },
   "outputs": [],
   "source": [
    "using TaylorSeries"
   ]
  },
  {
   "cell_type": "code",
   "execution_count": 8,
   "metadata": {
    "collapsed": false
   },
   "outputs": [
    {
     "data": {
      "text/plain": [
       "Integrador_1erIntento (generic function with 2 methods)"
      ]
     },
     "execution_count": 8,
     "metadata": {},
     "output_type": "execute_result"
    }
   ],
   "source": [
    "function paso_int{T<:Real}(x_0::Taylor1{T}, p::Int)\n",
    "    h1 = 0.5*(eps(1.0)/abs(x_0.coeffs[p + 1]))^(1/p) \n",
    "    h2 = 0.5*(eps(1.0)/abs(x_0.coeffs[p]))^(1/(p-1))\n",
    "    minimum([h1, h2])\n",
    "end\n",
    "\n",
    "function Horner{T<:Real, S<:Real}(x_0::Taylor1{S}, h::T)\n",
    "    n = x_0.order\n",
    "    suma = zeros(n)\n",
    "    suma[1] = x_0.coeffs[n]\n",
    "    for j in 2:n\n",
    "        suma[j] = x_0.coeffs[n + 1 - j] + h*suma[j - 1]\n",
    "    end\n",
    "    suma[n]\n",
    "end\n",
    "\n",
    "function Integrador_1erIntento(pos_iniciales, vel_ini, masas::Array{Float64,1}, t0::Float64, tf::Float64, p::Int)\n",
    "    #Para ahorrar al momento de escribir los nombres se indicarán así: pi donde i es el número de cuerpo,\n",
    "    # y p inidica si es posición o velocidad\n",
    "    #Creamos los arreglos con los tiempos y las soluciones\n",
    "    v1 = typeof(vel_ini[1])[vel_ini[1]]\n",
    "    v2 = typeof(vel_ini[2])[vel_ini[2]]\n",
    "    v3 = typeof(vel_ini[3])[vel_ini[3]]\n",
    "    p1 = typeof(pos_iniciales[1])[pos_iniciales[1]]\n",
    "    p2 = typeof(pos_iniciales[2])[pos_iniciales[2]]\n",
    "    p3 = typeof(pos_iniciales[3])[pos_iniciales[3]]\n",
    "    ts = Float64[t0] #arreglo inicial para los tiempos\n",
    "    \n",
    "    m1 = masas[1]\n",
    "    m2 = masas[2]\n",
    "    m3 = masas[3]\n",
    "    \n",
    "    t = t0           \n",
    "    x1, y1 = p1[1]\n",
    "    x2, y2 = p2[1]\n",
    "    x3, y3 = p3[1]\n",
    "    vx1, vy1 = v1[1]\n",
    "    vx2, vy2 = v2[1]\n",
    "    vx3, vy3 = v3[1]       \n",
    "    \n",
    "    while t <= tf\n",
    "        #Creo arreglos de cada parámetro\n",
    "        arr_x1 = Float64[x1]\n",
    "        arr_x2 = Float64[x2]\n",
    "        arr_x3 = Float64[x3]\n",
    "        arr_y1 = Float64[y1]\n",
    "        arr_y2 = Float64[y2]\n",
    "        arr_y3 = Float64[y3]\n",
    "        #arr_z1 = Float64[z1]\n",
    "        #arr_z2 = Float64[z2]\n",
    "        #arr_z3 = Float64[z3]\n",
    "        \n",
    "        arr_vx1 = Float64[vx1]\n",
    "        arr_vx2 = Float64[vx2]\n",
    "        arr_vx3 = Float64[vx3]\n",
    "        arr_vy1 = Float64[vy1]\n",
    "        arr_vy2 = Float64[vy2]\n",
    "        arr_vy3 = Float64[vy3]\n",
    "        #arr_vz1 = Float64[vz1]\n",
    "        #arr_vz2 = Float64[vz2]\n",
    "        #arr_vz3 = Float64[vz3]\n",
    "        \n",
    "        #Creo Taylor's para cada parámetro\n",
    "        for j in 1:p\n",
    "            Taylor_arr_x1 = Taylor1(arr_x1)\n",
    "            Taylor_arr_x2 = Taylor1(arr_x2)\n",
    "            Taylor_arr_x3 = Taylor1(arr_x3)\n",
    "            Taylor_arr_y1 = Taylor1(arr_y1)\n",
    "            Taylor_arr_y2 = Taylor1(arr_y2)\n",
    "            Taylor_arr_y3 = Taylor1(arr_y3)\n",
    "            #Taylor_arr_z1 = Taylor1(arr_z1)\n",
    "            #Taylor_arr_z2 = Taylor1(arr_z2)\n",
    "            #Taylor_arr_z3 = Taylor1(arr_z3)\n",
    "            Taylor_arr_vx1 = Taylor1(arr_vx1)\n",
    "            Taylor_arr_vx2 = Taylor1(arr_vx2)\n",
    "            Taylor_arr_vx3 = Taylor1(arr_vx3)\n",
    "            Taylor_arr_vy1 = Taylor1(arr_vy1)\n",
    "            Taylor_arr_vy2 = Taylor1(arr_vy2)\n",
    "            Taylor_arr_vy3 = Taylor1(arr_vy3)\n",
    "            #Taylor_arr_vz1 = Taylor1(arr_vz1)\n",
    "            #Taylor_arr_vz2 = Taylor1(arr_vz2)\n",
    "            #Taylor_arr_vz3 = Taylor1(arr_vz3)\n",
    "            #Calculamos las normas de los vectores\n",
    "            r1 = (Taylor_arr_x1^2 + Taylor_arr_y1^2)^(1/2)\n",
    "            r2 = (Taylor_arr_x2^2 + Taylor_arr_y2^2)^(1/2)\n",
    "            r3 = (Taylor_arr_x3^2 + Taylor_arr_y3^2)^(1/2)\n",
    "            \n",
    "            ##Definimos la operación de las 9 ecs de movimiento.\n",
    "            #Para el cuerpo 1\n",
    "            fx1 = -m2*(Taylor_arr_x1 - Taylor_arr_x2)/(r1 - r2)^3 - m3*(Taylor_arr_x1 - Taylor_arr_x3)/(r1 - r3)^3\n",
    "            fy1 = -m2*(Taylor_arr_y1 - Taylor_arr_y2)/(r1 - r2)^3 - m3*(Taylor_arr_y1 - Taylor_arr_y3)/(r1 - r3)^3\n",
    "            #fz1 = -m2*(Taylor_arr_z1 - Taylor_arr_z2)/(r1 - r2)^3 - m3*(Taylor_arr_z1 - Taylor_arr_z3)/(r1 - r3)^3\n",
    "            #Para el cuerpo 2\n",
    "            fx2 = -m3*(Taylor_arr_x2 - Taylor_arr_x3)/(r2 - r3)^3 - m1*(Taylor_arr_x2 - Taylor_arr_x1)/(r2 - r1)^3\n",
    "            fy2 = -m3*(Taylor_arr_y2 - Taylor_arr_y3)/(r2 - r3)^3 - m1*(Taylor_arr_y2 - Taylor_arr_y1)/(r2 - r1)^3\n",
    "            #fz2 = -m3*(Taylor_arr_z2 - Taylor_arr_z3)/(r2 - r3)^3 - m1*(Taylor_arr_z2 - Taylor_arr_z1)/(r2 - r1)^3\n",
    "            #Para el cuerpo 3\n",
    "            fx3 = -m1*(Taylor_arr_x3 - Taylor_arr_x1)/(r3 - r1)^3 - m3*(Taylor_arr_x3 - Taylor_arr_x1)/(r3 - r1)^3\n",
    "            fy3 = -m1*(Taylor_arr_y3 - Taylor_arr_y1)/(r3 - r1)^3 - m3*(Taylor_arr_y3 - Taylor_arr_y1)/(r3 - r1)^3\n",
    "            #fz3 = -m1*(Taylor_arr_z3 - Taylor_arr_z1)/(r3 - r1)^3 - m3*(Taylor_arr_z3 - Taylor_arr_z1)/(r3 - r1)^3\n",
    "            \n",
    "            #Incluimos los nuevos coeficientes\n",
    "            arr_x1 = push!(arr_x1, Taylor_arr_vx1.coeffs[j]/j)\n",
    "            arr_x2 = push!(arr_x2, Taylor_arr_vx2.coeffs[j]/j)\n",
    "            arr_x3 = push!(arr_x3, Taylor_arr_vx3.coeffs[j]/j)\n",
    "            arr_y1 = push!(arr_y1, Taylor_arr_vy1.coeffs[j]/j)\n",
    "            arr_y2 = push!(arr_y2, Taylor_arr_vy2.coeffs[j]/j)\n",
    "            arr_y3 = push!(arr_y3, Taylor_arr_vy3.coeffs[j]/j)\n",
    "            #arr_z1 = push!(arr_z1, Taylor_arr_vz1.coeffs[j]/j)\n",
    "            #arr_z2 = push!(arr_z2, Taylor_arr_vz2.coeffs[j]/j)\n",
    "            #arr_z3 = push!(arr_z3, Taylor_arr_vz3.coeffs[j]/j)\n",
    "            arr_vx1 =push!(arr_vx1, fx1.coeffs[j]/j)\n",
    "            arr_vx2 =push!(arr_vx2, fx2.coeffs[j]/j)\n",
    "            arr_vx3 =push!(arr_vx3, fx3.coeffs[j]/j)\n",
    "            arr_vy1 =push!(arr_vy1, fy1.coeffs[j]/j)\n",
    "            arr_vy2 =push!(arr_vy2, fy2.coeffs[j]/j)\n",
    "            arr_vy3 =push!(arr_vy3, fy3.coeffs[j]/j)\n",
    "            #arr_vz1 =push!(arr_vz1, fz1.coeffs[j]/j)\n",
    "            #arr_vz2 =push!(arr_vz2, fz2.coeffs[j]/j)\n",
    "            #arr_vz3 =push!(arr_vz3, fz3.coeffs[j]/j)\n",
    "        end\n",
    "        #Hacemos Taylor de todos los arreglos finales\n",
    "        Taylor_arr_x1 = Taylor1(arr_x1)\n",
    "        Taylor_arr_x2 = Taylor1(arr_x2)\n",
    "        Taylor_arr_x3 = Taylor1(arr_x3)\n",
    "        Taylor_arr_y1 = Taylor1(arr_y1)\n",
    "        Taylor_arr_y2 = Taylor1(arr_y2)\n",
    "        Taylor_arr_y3 = Taylor1(arr_y3)\n",
    "        #Taylor_arr_z1 = Taylor1(arr_z1)\n",
    "        #Taylor_arr_z2 = Taylor1(arr_z2)\n",
    "        #Taylor_arr_z3 = Taylor1(arr_z3)\n",
    "        Taylor_arr_vx1 = Taylor1(arr_vx1)\n",
    "        Taylor_arr_vx2 = Taylor1(arr_vx2)\n",
    "        Taylor_arr_vx3 = Taylor1(arr_vx3)\n",
    "        Taylor_arr_vy1 = Taylor1(arr_vy1)\n",
    "        Taylor_arr_vy2 = Taylor1(arr_vy2)\n",
    "        Taylor_arr_vy3 = Taylor1(arr_vy3)\n",
    "        #Taylor_arr_vz1 = Taylor1(arr_vz1)\n",
    "        #Taylor_arr_vz2 = Taylor1(arr_vz2)\n",
    "        #Taylor_arr_vz3 = Taylor1(arr_vz3)\n",
    "        \n",
    "        #Calculamos todas las h's posibles        \n",
    "        h1 = paso_int(Taylor_arr_x1,p)\n",
    "        h2 = paso_int(Taylor_arr_x2,p)\n",
    "        h3 = paso_int(Taylor_arr_x3,p)\n",
    "        h4 = paso_int(Taylor_arr_y1,p)\n",
    "        h5 = paso_int(Taylor_arr_y2,p)\n",
    "        h6 = paso_int(Taylor_arr_y3,p)\n",
    "        #h7 = paso_int(Taylor_arr_z1,p)\n",
    "        #h8 = paso_int(Taylor_arr_z2,p)\n",
    "        #h9 = paso_int(Taylor_arr_z3,p)\n",
    "        h10 = paso_int(Taylor_arr_vx1,p)\n",
    "        h11 = paso_int(Taylor_arr_vx2,p)\n",
    "        h12 = paso_int(Taylor_arr_vx3,p)\n",
    "        h13 = paso_int(Taylor_arr_vy1,p)\n",
    "        h14 = paso_int(Taylor_arr_vy2,p)\n",
    "        h15 = paso_int(Taylor_arr_vy3,p)\n",
    "        #h16 = paso_int(Taylor_arr_vz1,p)\n",
    "        #h17 = paso_int(Taylor_arr_vz2,p)\n",
    "        #h18 = paso_int(Taylor_arr_vz3,p)\n",
    "        \n",
    "        #Elegimos el h más pequeño\n",
    "        h = minimum([h1, h2, h3, h4, h5, h6, h10, h11, h12, h13, h14, h15])\n",
    "        t += h\n",
    "        \n",
    "        #Calculamos el siguiente paso usando Horner\n",
    "        x1 = Horner(Taylor_arr_x1, h)\n",
    "        x2 = Horner(Taylor_arr_x2, h)\n",
    "        x3 = Horner(Taylor_arr_x3, h)\n",
    "        y1 = Horner(Taylor_arr_y1, h)\n",
    "        y2 = Horner(Taylor_arr_y2, h)\n",
    "        y3 = Horner(Taylor_arr_y3, h)\n",
    "        #z1 = Horner(Taylor_arr_z1, h)\n",
    "        #z2 = Horner(Taylor_arr_z2, h)\n",
    "        #z3 = Horner(Taylor_arr_z3, h)\n",
    "        vx1 = Horner(Taylor_arr_vx1, h)\n",
    "        vx2 = Horner(Taylor_arr_vx2, h)\n",
    "        vx3 = Horner(Taylor_arr_vx3, h)\n",
    "        vy1 = Horner(Taylor_arr_vy1, h)\n",
    "        vy2 = Horner(Taylor_arr_vy2, h)\n",
    "        vy3 = Horner(Taylor_arr_vy3, h)\n",
    "        #vz1 = Horner(Taylor_arr_vz1, h)\n",
    "        #vz2 = Horner(Taylor_arr_vz2, h)\n",
    "        #vz3 = Horner(Taylor_arr_vz3, h)\n",
    "        \n",
    "        #Creamos vectores para la posicion y la velocidad de cada cuerpo\n",
    "        p1_temp = Float64[x1, y1]\n",
    "        p2_temp = Float64[x2, y2]\n",
    "        p3_temp = Float64[x3, y3]\n",
    "        v1_temp = Float64[vx1, vy1]\n",
    "        v2_temp = Float64[vx2, vy2]\n",
    "        v3_temp = Float64[vx3, vy3]\n",
    "        \n",
    "        #Agregamos nueva información de tiempos, posiciones y velocidades\n",
    "        p1 = push!(p1, p1_temp)\n",
    "        p2 = push!(p2, p2_temp)\n",
    "        p3 = push!(p3, p3_temp)\n",
    "        v1 = push!(v1, v1_temp)\n",
    "        v2 = push!(v2, v2_temp)\n",
    "        v3 = push!(v3, v3_temp)\n",
    "        ts = push!(ts, t)\n",
    "    end\n",
    "    #Creamos los cuerpos\n",
    "    cuerpo1 = typeof(p1)[p1, v1]\n",
    "    cuerpo2 = typeof(p2)[p2, v2]\n",
    "    cuerpo3 = typeof(p3)[p3, v3]\n",
    "    \n",
    "    ts, cuerpo1, cuerpo2, cuerpo3\n",
    "end"
   ]
  },
  {
   "cell_type": "code",
   "execution_count": 6,
   "metadata": {
    "collapsed": false
   },
   "outputs": [],
   "source": [
    "#Primera configuración de cuerpos:\n",
    "prueba1_masas = [200.0,10.0, 0.001]\n",
    "prueba1_p1 = [0.0, 0.0]\n",
    "prueba1_p2 = [142.0,0.0]\n",
    "prueba1_p3 = [166.0,0.0]\n",
    "prueba1_v1 = [0.0, -1.0]\n",
    "prueba1_v2 = [0.0,140.0]\n",
    "prueba1_v3 = [0.0,74.0]\n",
    "prueba1_pos = typeof(prueba1_p1)[prueba1_p1, prueba1_p2, prueba1_p3]\n",
    "prueba1_vel = typeof(prueba1_v1)[prueba1_v1, prueba1_v2, prueba1_v3];"
   ]
  },
  {
   "cell_type": "code",
   "execution_count": 9,
   "metadata": {
    "collapsed": false
   },
   "outputs": [
    {
     "ename": "LoadError",
     "evalue": "LoadError: InterruptException:\nwhile loading In[9], in expression starting on line 1",
     "output_type": "error",
     "traceback": [
      "LoadError: InterruptException:\nwhile loading In[9], in expression starting on line 1",
      ""
     ]
    }
   ],
   "source": [
    "ts1, c11, c21, c31 = Integrador_1erIntento(prueba1_pos, prueba1_vel, prueba1_masas, 0., 5., 10);"
   ]
  },
  {
   "cell_type": "code",
   "execution_count": null,
   "metadata": {
    "collapsed": true
   },
   "outputs": [],
   "source": []
  }
 ],
 "metadata": {
  "kernelspec": {
   "display_name": "Julia 0.4.5",
   "language": "julia",
   "name": "julia-0.4"
  },
  "language_info": {
   "file_extension": ".jl",
   "mimetype": "application/julia",
   "name": "julia",
   "version": "0.4.5"
  }
 },
 "nbformat": 4,
 "nbformat_minor": 0
}
