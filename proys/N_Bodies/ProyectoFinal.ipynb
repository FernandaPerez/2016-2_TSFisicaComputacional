{
 "cells": [
  {
   "cell_type": "markdown",
   "metadata": {},
   "source": [
    "# Proyecto Final: Integración de 3 o más cuerpos\n",
    "\n",
    "- Carlos Daniel López Mimenza (**@SirSilverCharles**)\n",
    "- Daniel Martínez Urrieta (**@danmarurr**)\n",
    "- María Fernanda Pérez Ramírez (**@FernandaPerez**)"
   ]
  },
  {
   "cell_type": "markdown",
   "metadata": {},
   "source": [
    "Para el problema de $N$ cuerpos, consideremos las ecuaciones de movimiento para cada una ellas (con la posición $\\vec{q}_i$, masa $m_i$), suponiendo que las partículas se encuentran en el mismo plano (2D):\n",
    "\n",
    "\\begin{align}\n",
    "    m_i \\frac{{\\rm d}^2\\vec{q}_i}{{\\rm d}t^2} = \\sum_{i \\neq j} \\frac{Gm_im_j}{||\\vec{q}_i - \\vec{q}_j||^2}(\\vec{q}_i - \\vec{q}_j)\n",
    "\\end{align}"
   ]
  },
  {
   "cell_type": "markdown",
   "metadata": {},
   "source": [
    "## Caso más simple: Tres cuerpos.\n",
    "\n",
    "Para éste caso, tendremos que las ecuaciones que describen las trayectorias de las partículas son:\n",
    "\n",
    "\\begin{align}\n",
    "    \\ddot{\\mathbf{x}}_1 &= - \\frac{Gm_2}{(x_1 - x_2)^2}(\\mathbf{x}_1 - \\mathbf{x}_2) - \\frac{Gm_3}{(x_1 - x_3)^2}(\\mathbf{x}_1 - \\mathbf{x}_3)\\\\\n",
    "    \\ddot{\\mathbf{x}}_2 &= - \\frac{Gm_3}{(x_2 - x_3)^2}(\\mathbf{x}_2 - \\mathbf{x}_3) - \\frac{Gm_1}{(x_2 - x_1)^2}(\\mathbf{x}_2 - \\mathbf{x}_1)\\\\\n",
    "    \\ddot{\\mathbf{x}}_3 &= - \\frac{Gm_1}{(x_3 - x_1)^2}(\\mathbf{x}_3 - \\mathbf{x}_1) - \\frac{Gm_2}{(x_3 - x_2)^2}(\\mathbf{x}_3 - \\mathbf{x}_2)\n",
    "\\end{align}\n",
    "\n",
    "Para tomar sólo ecuaciones de primer orden (y así usar Taylor) implementamos además que:\n",
    "\\begin{align}\n",
    "    \\dot{\\mathbf{v}}_j = \\ddot{\\mathbf{x}}_j \\ \\ \\Rightarrow \\dot{\\mathbf{x}}_j = \\mathbf{v}_j\n",
    "\\end{align}"
   ]
  },
  {
   "cell_type": "code",
   "execution_count": 1,
   "metadata": {
    "collapsed": true
   },
   "outputs": [],
   "source": [
    "using TaylorSeries\n",
    "using PyPlot\n",
    "using PyCall\n",
    "@pyimport matplotlib.animation as anim"
   ]
  },
  {
   "cell_type": "code",
   "execution_count": 24,
   "metadata": {
    "collapsed": false
   },
   "outputs": [
    {
     "data": {
      "text/plain": [
       "muestra_animacion (generic function with 1 method)"
      ]
     },
     "execution_count": 24,
     "metadata": {},
     "output_type": "execute_result"
    }
   ],
   "source": [
    "function anima3C(c1,c2,c3, nombre::ASCIIString)\n",
    "    px1 = [x[1] for x in c1[1]]\n",
    "    px2 = [x[1] for x in c2[1]]\n",
    "    px3 = [x[1] for x in c3[1]]\n",
    "    py1 = [x[2] for x in c1[1]]\n",
    "    py2 = [x[2] for x in c2[1]]\n",
    "    py3 = [x[2] for x in c3[1]]\n",
    "    \n",
    "    \n",
    "    fig = figure(figsize=(5,5))\n",
    "    cuadros = [[plot(px1[i],py1[i], \",\", px2[i],py2[i],  \",\", px3[i],py3[i], marker = \"*\", color =\"r\")] for i=1:length(px1)]\n",
    "    \n",
    "    animacion = anim.ArtistAnimation(fig, cuadros, interval=200, blit=true) \n",
    "    animacion[:save](nombre*\".mp4\", extra_args=[\"-vcodec\", \"libx264\", \"-pix_fmt\", \"yuv420p\"])\n",
    "end\n",
    "\n",
    "function muestra_animacion(nombre::ASCIIString)\n",
    "    display(\"text/html\", string(\"\"\"<video autoplay controls><source src=\"data:video/x-m4v;base64,\"\"\",base64(open(readbytes,nombre*\".mp4\")),\"\"\"\" type=\"video/mp4\"></video>\"\"\"))\n",
    "end"
   ]
  },
  {
   "cell_type": "code",
   "execution_count": 3,
   "metadata": {
    "collapsed": false
   },
   "outputs": [
    {
     "data": {
      "text/plain": [
       " 1 + 𝒪(t¹)"
      ]
     },
     "execution_count": 3,
     "metadata": {},
     "output_type": "execute_result"
    }
   ],
   "source": [
    "x = Taylor1([1])"
   ]
  },
  {
   "cell_type": "code",
   "execution_count": 4,
   "metadata": {
    "collapsed": false
   },
   "outputs": [
    {
     "data": {
      "text/plain": [
       "0"
      ]
     },
     "execution_count": 4,
     "metadata": {},
     "output_type": "execute_result"
    }
   ],
   "source": [
    "x.order"
   ]
  },
  {
   "cell_type": "code",
   "execution_count": 5,
   "metadata": {
    "collapsed": false
   },
   "outputs": [
    {
     "data": {
      "text/plain": [
       "2.220446049250313e-16"
      ]
     },
     "execution_count": 5,
     "metadata": {},
     "output_type": "execute_result"
    }
   ],
   "source": [
    "eps(1.)"
   ]
  },
  {
   "cell_type": "code",
   "execution_count": 6,
   "metadata": {
    "collapsed": false
   },
   "outputs": [],
   "source": [
    "#Agrego Línea para instalar modulo de Taylor (cortesia de Luis)\n",
    "#Pkg.add(\"TaylorSeries\")"
   ]
  },
  {
   "cell_type": "code",
   "execution_count": 7,
   "metadata": {
    "collapsed": false
   },
   "outputs": [
    {
     "data": {
      "text/plain": [
       "Horner (generic function with 1 method)"
      ]
     },
     "execution_count": 7,
     "metadata": {},
     "output_type": "execute_result"
    }
   ],
   "source": [
    "const epsilon = 1.0e-20\n",
    "const G = 1\n",
    "\n",
    "function paso_int{T<:Real}(x_0::Taylor1{T})\n",
    "    orden = x_0.order\n",
    "    h1 = (epsilon/abs(x_0.coeffs[orden + 1]))^(1/orden) \n",
    "    h2 = (epsilon/abs(x_0.coeffs[orden]))^(1/(orden - 1))\n",
    "    min(h1, h2)\n",
    "end\n",
    "\n",
    "function Horner{T<:Real, S<:Real}(x_0::Taylor1{S}, h::T)\n",
    "    n = x_0.order\n",
    "    suma = zeros(n)\n",
    "    suma[1] = x_0.coeffs[n]\n",
    "    for j in 2:n\n",
    "        suma[j] = x_0.coeffs[n + 1 - j] + h*suma[j - 1]\n",
    "    end\n",
    "    suma[n]\n",
    "end"
   ]
  },
  {
   "cell_type": "code",
   "execution_count": 8,
   "metadata": {
    "collapsed": false
   },
   "outputs": [
    {
     "data": {
      "text/plain": [
       "Integrador_1 (generic function with 1 method)"
      ]
     },
     "execution_count": 8,
     "metadata": {},
     "output_type": "execute_result"
    }
   ],
   "source": [
    "function Integrador_1(pos_iniciales, vel_ini, masas::Array{Float64,1}, t0::Float64, tf::Float64, p::Int)\n",
    "    #Para ahorrar al momento de escribir los nombres se indicarán así: pi donde i es el número de cuerpo,\n",
    "    # y p inidica si es posición o velocidad\n",
    "    #Creamos los arreglos con los tiempos y las soluciones\n",
    "    v1 = typeof(vel_ini[1])[vel_ini[1]]\n",
    "    v2 = typeof(vel_ini[2])[vel_ini[2]]\n",
    "    v3 = typeof(vel_ini[3])[vel_ini[3]]\n",
    "    p1 = typeof(pos_iniciales[1])[pos_iniciales[1]]\n",
    "    p2 = typeof(pos_iniciales[2])[pos_iniciales[2]]\n",
    "    p3 = typeof(pos_iniciales[3])[pos_iniciales[3]]\n",
    "    ts = Float64[t0] #arreglo inicial para los tiempos\n",
    "    \n",
    "    m1 = masas[1]\n",
    "    m2 = masas[2]\n",
    "    m3 = masas[3]\n",
    "    \n",
    "    t = t0\n",
    "    h = 1\n",
    "    \n",
    "    while t <= tf && h > 1e-8\n",
    "        #Creo arreglos de cada parámetro\n",
    "        arr_x1 = Float64[p1[end][1]]\n",
    "        arr_x2 = Float64[p2[end][1]]\n",
    "        arr_x3 = Float64[p3[end][1]]\n",
    "        arr_y1 = Float64[p1[end][2]]\n",
    "        arr_y2 = Float64[p2[end][2]]\n",
    "        arr_y3 = Float64[p3[end][2]]\n",
    "        arr_z1 = Float64[p1[end][3]]\n",
    "        arr_z2 = Float64[p2[end][3]]\n",
    "        arr_z3 = Float64[p3[end][3]]\n",
    "        arr_vx1 = Float64[v1[end][1]]\n",
    "        arr_vx2 = Float64[v2[end][1]]\n",
    "        arr_vx3 = Float64[v3[end][1]]\n",
    "        arr_vy1 = Float64[v1[end][2]]\n",
    "        arr_vy2 = Float64[v2[end][2]]\n",
    "        arr_vy3 = Float64[v3[end][2]]\n",
    "        arr_vz1 = Float64[p1[end][3]]\n",
    "        arr_vz2 = Float64[p2[end][3]]\n",
    "        arr_vz3 = Float64[p3[end][3]]\n",
    "        \n",
    "        #Creo Taylor's para cada parámetro\n",
    "        for j in 1:p\n",
    "            Taylor_arr_x1 = Taylor1(arr_x1)\n",
    "            Taylor_arr_x2 = Taylor1(arr_x2)\n",
    "            Taylor_arr_x3 = Taylor1(arr_x3)\n",
    "            Taylor_arr_y1 = Taylor1(arr_y1)\n",
    "            Taylor_arr_y2 = Taylor1(arr_y2)\n",
    "            Taylor_arr_y3 = Taylor1(arr_y3)\n",
    "            Taylor_arr_z1 = Taylor1(arr_z1)\n",
    "            Taylor_arr_z2 = Taylor1(arr_z2)\n",
    "            Taylor_arr_z3 = Taylor1(arr_z3)\n",
    "            Taylor_arr_vx1 = Taylor1(arr_vx1)\n",
    "            Taylor_arr_vx2 = Taylor1(arr_vx2)\n",
    "            Taylor_arr_vx3 = Taylor1(arr_vx3)\n",
    "            Taylor_arr_vy1 = Taylor1(arr_vy1)\n",
    "            Taylor_arr_vy2 = Taylor1(arr_vy2)\n",
    "            Taylor_arr_vy3 = Taylor1(arr_vy3)\n",
    "            Taylor_arr_vz1 = Taylor1(arr_vz1)\n",
    "            Taylor_arr_vz2 = Taylor1(arr_vz2)\n",
    "            Taylor_arr_vz3 = Taylor1(arr_vz3)\n",
    "            \n",
    "            #@show Taylor_arr_x1          \n",
    "            ##Definimos la operación de las 6 ecs de movimiento.\n",
    "            \n",
    "            \n",
    "r12 = ((Taylor_arr_x1 - Taylor_arr_x2)^2 + (Taylor_arr_y1 - Taylor_arr_y2)^2 + (Taylor_arr_z1 - Taylor_arr_z2)^2)^(1/2)\n",
    "r13 = ((Taylor_arr_x1 - Taylor_arr_x3)^2 + (Taylor_arr_y1 - Taylor_arr_y3)^2 + (Taylor_arr_z1 - Taylor_arr_z3)^2)^(1/2)\n",
    "r23 = ((Taylor_arr_x2 - Taylor_arr_x3)^2 + (Taylor_arr_y2 - Taylor_arr_y3)^2 + (Taylor_arr_z2 - Taylor_arr_z3)^2)^(1/2)\n",
    "            \n",
    "            #@show r12, r3, r23       \n",
    "            \n",
    "            #Para el cuerpo 1\n",
    "            fx1 = -G*(m2*(Taylor_arr_x1 - Taylor_arr_x2)/(r12)^2 + m3*(Taylor_arr_x1 - Taylor_arr_x3)/(r13)^2)\n",
    "            fy1 = -G*(m2*(Taylor_arr_y1 - Taylor_arr_y2)/(r12)^2 + m3*(Taylor_arr_y1 - Taylor_arr_y3)/(r13)^2)\n",
    "            fz1 = -G*(m2*(Taylor_arr_z1 - Taylor_arr_z2)/(r12)^2 + m3*(Taylor_arr_z1 - Taylor_arr_z3)/(r13)^2)\n",
    "            #Para el cuerpo 2\n",
    "            fx2 = -G*(m3*(Taylor_arr_x2 - Taylor_arr_x3)/(r23)^2 + m1*(Taylor_arr_x2 - Taylor_arr_x1)/(r12)^2)\n",
    "            fy2 = -G*(m3*(Taylor_arr_y2 - Taylor_arr_y3)/(r23)^2 + m1*(Taylor_arr_y2 - Taylor_arr_y1)/(r12)^2)\n",
    "            fz2 = -G*(m3*(Taylor_arr_z2 - Taylor_arr_z3)/(r23)^2 + m1*(Taylor_arr_z2 - Taylor_arr_z1)/(r12)^2)\n",
    "            #Para el cuerpo 3\n",
    "            fx3 = -G*(m1*(Taylor_arr_x3 - Taylor_arr_x1)/(r13)^2 + m2*(Taylor_arr_x3 - Taylor_arr_x2)/(r23)^2)\n",
    "            fy3 = -G*(m1*(Taylor_arr_y3 - Taylor_arr_y1)/(r13)^2 + m2*(Taylor_arr_y3 - Taylor_arr_y2)/(r23)^2)\n",
    "            fz3 = -G*(m1*(Taylor_arr_z3 - Taylor_arr_z1)/(r13)^2 + m2*(Taylor_arr_z3 - Taylor_arr_z2)/(r23)^2)\n",
    "            \n",
    "            #Incluimos los nuevos coeficientes\n",
    "            arr_x1 = push!(arr_x1, Taylor_arr_vx1.coeffs[j]/j)\n",
    "            arr_x2 = push!(arr_x2, Taylor_arr_vx2.coeffs[j]/j)\n",
    "            arr_x3 = push!(arr_x3, Taylor_arr_vx3.coeffs[j]/j)\n",
    "            arr_y1 = push!(arr_y1, Taylor_arr_vy1.coeffs[j]/j)\n",
    "            arr_y2 = push!(arr_y2, Taylor_arr_vy2.coeffs[j]/j)\n",
    "            arr_y3 = push!(arr_y3, Taylor_arr_vy3.coeffs[j]/j)\n",
    "            arr_z1 = push!(arr_z1, Taylor_arr_vz1.coeffs[j]/j)\n",
    "            arr_z2 = push!(arr_z2, Taylor_arr_vz2.coeffs[j]/j)\n",
    "            arr_z3 = push!(arr_z3, Taylor_arr_vz3.coeffs[j]/j)\n",
    "            arr_vx1 =push!(arr_vx1, fx1.coeffs[j]/j)\n",
    "            arr_vx2 =push!(arr_vx2, fx2.coeffs[j]/j)\n",
    "            arr_vx3 =push!(arr_vx3, fx3.coeffs[j]/j)\n",
    "            arr_vy1 =push!(arr_vy1, fy1.coeffs[j]/j)\n",
    "            arr_vy2 =push!(arr_vy2, fy2.coeffs[j]/j)\n",
    "            arr_vy3 =push!(arr_vy3, fy3.coeffs[j]/j)\n",
    "            arr_vz1 =push!(arr_vz1, fz1.coeffs[j]/j)\n",
    "            arr_vz2 =push!(arr_vz2, fz2.coeffs[j]/j)\n",
    "            arr_vz3 =push!(arr_vz3, fz3.coeffs[j]/j)\n",
    "        end\n",
    "        #Hacemos Taylor de todos los arreglos finales\n",
    "        Taylor_arr_x1 = Taylor1(arr_x1)\n",
    "        Taylor_arr_x2 = Taylor1(arr_x2)\n",
    "        Taylor_arr_x3 = Taylor1(arr_x3)\n",
    "        Taylor_arr_y1 = Taylor1(arr_y1)\n",
    "        Taylor_arr_y2 = Taylor1(arr_y2)\n",
    "        Taylor_arr_y3 = Taylor1(arr_y3)\n",
    "        Taylor_arr_z1 = Taylor1(arr_z1)\n",
    "        Taylor_arr_z2 = Taylor1(arr_z2)\n",
    "        Taylor_arr_z3 = Taylor1(arr_z3)\n",
    "        Taylor_arr_vx1 = Taylor1(arr_vx1)\n",
    "        Taylor_arr_vx2 = Taylor1(arr_vx2)\n",
    "        Taylor_arr_vx3 = Taylor1(arr_vx3)\n",
    "        Taylor_arr_vy1 = Taylor1(arr_vy1)\n",
    "        Taylor_arr_vy2 = Taylor1(arr_vy2)\n",
    "        Taylor_arr_vy3 = Taylor1(arr_vy3)\n",
    "        Taylor_arr_vz1 = Taylor1(arr_vz1)\n",
    "        Taylor_arr_vz2 = Taylor1(arr_vz2)\n",
    "        Taylor_arr_vz3 = Taylor1(arr_vz3)\n",
    "\n",
    "        \n",
    "        #Calculamos todas las h's posibles        \n",
    "        h1 = paso_int(Taylor_arr_x1)\n",
    "        h2 = paso_int(Taylor_arr_x2)\n",
    "        h3 = paso_int(Taylor_arr_x3)\n",
    "        h4 = paso_int(Taylor_arr_y1)\n",
    "        h5 = paso_int(Taylor_arr_y2)\n",
    "        h6 = paso_int(Taylor_arr_z3)\n",
    "        h7 = paso_int(Taylor_arr_z1)\n",
    "        h8 = paso_int(Taylor_arr_z2)\n",
    "        h9 = paso_int(Taylor_arr_y3)\n",
    "        h10 = paso_int(Taylor_arr_vx1)\n",
    "        h11 = paso_int(Taylor_arr_vx2)\n",
    "        h12 = paso_int(Taylor_arr_vx3)\n",
    "        h13 = paso_int(Taylor_arr_vz1)\n",
    "        h14 = paso_int(Taylor_arr_vz2)\n",
    "        h15 = paso_int(Taylor_arr_vz3)\n",
    "        \n",
    "        \n",
    "        #Elegimos el h más pequeño\n",
    "        h = min(h1, h2, h3, h4, h5, h6, h7, h8, h9, h10, h11, h12, h13, h14, h15)\n",
    "        t += h\n",
    "        #Calculamos el siguiente paso usando Horner\n",
    "        x1 = evaluate(Taylor_arr_x1, h)\n",
    "        x2 = evaluate(Taylor_arr_x2, h)\n",
    "        x3 = evaluate(Taylor_arr_x3, h)\n",
    "        y1 = evaluate(Taylor_arr_y1, h)\n",
    "        y2 = evaluate(Taylor_arr_y2, h)\n",
    "        y3 = evaluate(Taylor_arr_y3, h)\n",
    "        z1 = evaluate(Taylor_arr_z1, h)\n",
    "        z2 = evaluate(Taylor_arr_z2, h)\n",
    "        z3 = evaluate(Taylor_arr_z3, h)\n",
    "        vx1 = evaluate(Taylor_arr_vx1, h)\n",
    "        vx2 = evaluate(Taylor_arr_vx2, h)\n",
    "        vx3 = evaluate(Taylor_arr_vx3, h)\n",
    "        vy1 = evaluate(Taylor_arr_vy1, h)\n",
    "        vy2 = evaluate(Taylor_arr_vy2, h)\n",
    "        vy3 = evaluate(Taylor_arr_vy3, h)\n",
    "        vz1 = evaluate(Taylor_arr_vz1, h)\n",
    "        vz2 = evaluate(Taylor_arr_vz2, h)\n",
    "        vz3 = evaluate(Taylor_arr_vz3, h)\n",
    "        \n",
    "        #Revisamos que no salgan singularidades\n",
    "        \n",
    "        \n",
    "        #Creamos vectores para la posicion y la velocidad de cada cuerpo\n",
    "        p1_temp = Float64[x1, y1, z1]\n",
    "        p2_temp = Float64[x2, y2, z2]\n",
    "        p3_temp = Float64[x3, y3, z3]\n",
    "        v1_temp = Float64[vx1, vy1, vz1]\n",
    "        v2_temp = Float64[vx2, vy2, vz2]\n",
    "        v3_temp = Float64[vx3, vy3, vz3]\n",
    "        \n",
    "        #Agregamos nueva información de tiempos, posiciones y velocidades\n",
    "        p1 = push!(p1, p1_temp)\n",
    "        p2 = push!(p2, p2_temp)\n",
    "        p3 = push!(p3, p3_temp)\n",
    "        v1 = push!(v1, v1_temp)\n",
    "        v2 = push!(v2, v2_temp)\n",
    "        v3 = push!(v3, v3_temp)\n",
    "        ts = push!(ts, t)\n",
    "    end\n",
    "    #Creamos arreglos con toda la información de los cuerpos\n",
    "    cuerpo1 = typeof(p1)[p1, v1]\n",
    "    cuerpo2 = typeof(p2)[p2, v2]\n",
    "    cuerpo3 = typeof(p3)[p3, v3]\n",
    "    \n",
    "    ts, cuerpo1, cuerpo2, cuerpo3\n",
    "end"
   ]
  },
  {
   "cell_type": "code",
   "execution_count": 9,
   "metadata": {
    "collapsed": false
   },
   "outputs": [
    {
     "data": {
      "text/plain": [
       "Energia_3 (generic function with 1 method)"
      ]
     },
     "execution_count": 9,
     "metadata": {},
     "output_type": "execute_result"
    }
   ],
   "source": [
    "function Energia_3(c1, c2, c3, masas)\n",
    "    #Extraemos la información de posiciones y velocidades\n",
    "    vc1 = c1[2]\n",
    "    vc2 = c2[2]\n",
    "    vc3 = c3[2]\n",
    "    pc1 = c1[1]\n",
    "    pc2 = c2[1]\n",
    "    pc3 = c3[1]\n",
    "    #Obtenemos el valor de las masas\n",
    "    m1 = masas[1]\n",
    "    m2 = masas[2]\n",
    "    m3 = masas[3]\n",
    "    \n",
    "    ϵ = zeros(length(vc1))\n",
    "    for j in 1:length(ϵ)\n",
    "        ϵ1 = m1*(0.5*norm(vc1[j])^2 - m2/norm(pc2[j] - pc1[j]) - m3/norm(pc3[j] - pc1[j]))\n",
    "        ϵ2 = m2*(0.5*norm(vc2[j])^2 - m1/norm(pc1[j] - pc2[j]) - m3/norm(pc3[j] - pc2[j]))\n",
    "        ϵ3 = m3*(0.5*norm(vc3[j])^2 - m2/norm(pc2[j] - pc3[j]) - m1/norm(pc1[j] - pc3[j]))\n",
    "        ϵ[j] = ϵ1 + ϵ2 + ϵ3\n",
    "    end\n",
    "    ϵ\n",
    "end"
   ]
  },
  {
   "cell_type": "code",
   "execution_count": 10,
   "metadata": {
    "collapsed": false
   },
   "outputs": [],
   "source": [
    "#Primera configuración de cuerpos:\n",
    "prueba1_masas = [1., 1., 1.]\n",
    "prueba1_p1 = [1.0, 0.0,0.]\n",
    "prueba1_p2 = [-0.5,sqrt(3)/2,0.]\n",
    "prueba1_p3 = [-0.5,-sqrt(3)/2,0.]\n",
    "prueba1_v1 = [0.,-1.,0.]\n",
    "prueba1_v2 = [sqrt(3)/2, 0.5,0.]\n",
    "prueba1_v3 = [-sqrt(3)/2, 0.5,0.]\n",
    "prueba1_pos = typeof(prueba1_p1)[prueba1_p1, prueba1_p2, prueba1_p3]\n",
    "prueba1_vel = typeof(prueba1_v1)[prueba1_v1, prueba1_v2, prueba1_v3];"
   ]
  },
  {
   "cell_type": "code",
   "execution_count": 11,
   "metadata": {
    "collapsed": true
   },
   "outputs": [],
   "source": [
    "prueba2_masas = [200., 1., 0.001]\n",
    "prueba2_p1 = [0.0, 0.0,0.]\n",
    "prueba2_p2 = [1.42,0.,0.]\n",
    "prueba2_p3 = [1.66,0.,0.]\n",
    "prueba2_v1 = [0.,0.,0.]\n",
    "prueba2_v2 = [0.,10.,0.]\n",
    "prueba2_v3 = [0.,7.,0.]\n",
    "prueba2_pos = typeof(prueba2_p1)[prueba2_p1, prueba2_p2, prueba2_p3]\n",
    "prueba2_vel = typeof(prueba2_v1)[prueba2_v1, prueba2_v2, prueba2_v3];"
   ]
  },
  {
   "cell_type": "code",
   "execution_count": 12,
   "metadata": {
    "collapsed": false
   },
   "outputs": [
    {
     "name": "stdout",
     "output_type": "stream",
     "text": [
      "  0.033061 seconds (455.38 k allocations: 39.841 MB, 15.42% gc time)\n"
     ]
    }
   ],
   "source": [
    "ts1, c11, c21, c31 = Integrador_1(prueba1_pos, prueba1_vel, prueba1_masas, 0., 100., 28);\n",
    "@time ts1, c11, c21, c31 = Integrador_1(prueba1_pos, prueba1_vel, prueba1_masas, 0., 100., 28);"
   ]
  },
  {
   "cell_type": "code",
   "execution_count": 13,
   "metadata": {
    "collapsed": false
   },
   "outputs": [
    {
     "data": {
      "text/plain": [
       "0.9999999999999996"
      ]
     },
     "execution_count": 13,
     "metadata": {},
     "output_type": "execute_result"
    }
   ],
   "source": [
    "norm(c11[1][2])^2"
   ]
  },
  {
   "cell_type": "code",
   "execution_count": 14,
   "metadata": {
    "collapsed": false
   },
   "outputs": [
    {
     "data": {
      "text/plain": [
       "52-element Array{Float64,1}:\n",
       " -1.9641\n",
       " -1.9641\n",
       " -1.9641\n",
       " -1.9641\n",
       " -1.9641\n",
       " -1.9641\n",
       " -1.9641\n",
       " -1.9641\n",
       " -1.9641\n",
       " -1.9641\n",
       " -1.9641\n",
       " -1.9641\n",
       " -1.9641\n",
       "  ⋮     \n",
       " -1.9641\n",
       " -1.9641\n",
       " -1.9641\n",
       " -1.9641\n",
       " -1.9641\n",
       " -1.9641\n",
       " -1.9641\n",
       " -1.9641\n",
       " -1.9641\n",
       " -1.9641\n",
       " -1.9641\n",
       " -1.9641"
      ]
     },
     "execution_count": 14,
     "metadata": {},
     "output_type": "execute_result"
    }
   ],
   "source": [
    "Energia_3(c11, c21, c31, prueba1_masas)"
   ]
  },
  {
   "cell_type": "code",
   "execution_count": 15,
   "metadata": {
    "collapsed": false
   },
   "outputs": [],
   "source": [
    "pos_1 = c11[1]\n",
    "x_1 = [j[1] for j in pos_1]\n",
    "y_1 = [j[2] for j in pos_1]\n",
    "pos_2 = c21[1]\n",
    "x_2 = [j[1] for j in pos_2]\n",
    "y_2 = [j[2] for j in pos_2]\n",
    "pos_3 = c31[1]\n",
    "x_3 = [j[1] for j in pos_3]\n",
    "y_3 = [j[2] for j in pos_3];"
   ]
  },
  {
   "cell_type": "code",
   "execution_count": 16,
   "metadata": {
    "collapsed": false
   },
   "outputs": [
    {
     "data": {
      "image/png": "[encoded data removed]",
      "text/plain": [
       "PyPlot.Figure(PyObject <matplotlib.figure.Figure object at 0x7f77e5ee4f98>)"
      ]
     },
     "metadata": {},
     "output_type": "display_data"
    }
   ],
   "source": [
    "figure(figsize=(5,5))\n",
    "plot(x_1,y_1, marker = \".\", linestyle =\"\", label =\"Cuerpo 1\")\n",
    "plot(x_2,y_2, marker = \".\", linestyle =\"\", label =\"Cuerpo 2\")\n",
    "plot(x_3,y_3, marker = \".\", linestyle =\"\", label =\"Cuerpo 3\")\n",
    "legend(loc=\"auto\")\n",
    "show()"
   ]
  },
  {
   "cell_type": "code",
   "execution_count": 17,
   "metadata": {
    "collapsed": false
   },
   "outputs": [],
   "source": [
    "ts2, c12, c22, c32 = Integrador_1(prueba2_pos, prueba2_vel, prueba2_masas, 0., 1., 28)\n",
    "pos_1b = c12[1]\n",
    "x_1b = [j[1] for j in pos_1b]\n",
    "y_1b = [j[2] for j in pos_1b]\n",
    "pos_2b = c22[1]\n",
    "x_2b = [j[1] for j in pos_2b]\n",
    "y_2b = [j[2] for j in pos_2b]\n",
    "pos_3b = c32[1]\n",
    "x_3b = [j[1] for j in pos_3b]\n",
    "y_3b = [j[2] for j in pos_3b];"
   ]
  },
  {
   "cell_type": "code",
   "execution_count": 26,
   "metadata": {
    "collapsed": false
   },
   "outputs": [
    {
     "data": {
      "image/png": "[encoded data removed]",
      "text/plain": [
       "PyPlot.Figure(PyObject <matplotlib.figure.Figure object at 0x7f77e3741c18>)"
      ]
     },
     "metadata": {},
     "output_type": "display_data"
    }
   ],
   "source": [
    "anima3C(c11,c21,c31, \"Prueba1\");"
   ]
  },
  {
   "cell_type": "code",
   "execution_count": 23,
   "metadata": {
    "collapsed": false
   },
   "outputs": [
    {
     "data": {
      "text/html": [
       "<video autoplay controls><source src=\"data:video/x-m4v;base64,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\" type=\"video/mp4\"></video>"
      ]
     },
     "metadata": {},
     "output_type": "display_data"
    }
   ],
   "source": [
    "muestra_animacion(\"Prueba1\")"
   ]
  },
  {
   "cell_type": "code",
   "execution_count": null,
   "metadata": {
    "collapsed": true
   },
   "outputs": [],
   "source": []
  }
 ],
 "metadata": {
  "kernelspec": {
   "display_name": "Julia 0.4.5",
   "language": "julia",
   "name": "julia-0.4"
  },
  "language_info": {
   "file_extension": ".jl",
   "mimetype": "application/julia",
   "name": "julia",
   "version": "0.4.5"
  }
 },
 "nbformat": 4,
 "nbformat_minor": 0
}
