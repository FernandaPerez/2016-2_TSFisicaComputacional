{
 "cells": [
  {
   "cell_type": "code",
   "execution_count": 2,
   "metadata": {
    "collapsed": false
   },
   "outputs": [
    {
     "data": {
      "text/plain": [
       "Energia_3 (generic function with 1 method)"
      ]
     },
     "execution_count": 2,
     "metadata": {},
     "output_type": "execute_result"
    }
   ],
   "source": [
    "include(\"ProyectoFinal.jl\")"
   ]
  },
  {
   "cell_type": "markdown",
   "metadata": {},
   "source": [
    "## Sistema Sol - Tierra - Luna\n",
    "\n",
    "Para el sistema de 3 cuerpos formado por el Sol, la Tierra y la Luna, consideramos una posición inicial colineal, con las distancias equivalentes a las distancias astronómicas reportadas.\n",
    "\n",
    "Usamos también datos concernientes a las masas."
   ]
  },
  {
   "cell_type": "code",
   "execution_count": 161,
   "metadata": {
    "collapsed": false
   },
   "outputs": [
    {
     "data": {
      "text/plain": [
       "3-element Array{Float64,1}:\n",
       " 1.00258\n",
       " 0.0    \n",
       " 0.0    "
      ]
     },
     "execution_count": 161,
     "metadata": {},
     "output_type": "execute_result"
    }
   ],
   "source": [
    "MasaSol = 1.\n",
    "#MasaTierra = 0.0003015\n",
    "#MasaLuna = 0.00000037\n",
    "MasaTierra = 0.000001\n",
    "MasaLuna = 0.0000000001\n",
    "\n",
    "Distancia_TierraSol = 1.\n",
    "Distancia_TierraLuna = 0.002577181\n",
    "Distancia_LunaSol_inicial= Distancia_TierraSol + Distancia_TierraLuna\n",
    "\n",
    "VelocidadTraslacional_TierraSol = 1.\n",
    "VelocidadTraslacional_TierraLuna = 1.\n",
    "VelocidadLuna_inicial = VelocidadTraslacional_TierraSol + VelocidadTraslacional_TierraLuna\n",
    "\n",
    "PosicionInicialSol = [0., 0., 0.]\n",
    "PosicionInicialTierra = [Distancia_TierraSol, 0., 0.]\n",
    "PosicionInicialLuna = [Distancia_LunaSol_inicial, 0., 0.]"
   ]
  },
  {
   "cell_type": "code",
   "execution_count": 162,
   "metadata": {
    "collapsed": false
   },
   "outputs": [
    {
     "data": {
      "text/plain": [
       "iniciar (generic function with 1 method)"
      ]
     },
     "execution_count": 162,
     "metadata": {},
     "output_type": "execute_result"
    }
   ],
   "source": [
    "function iniciar(masa, posiciones, velocidades)\n",
    "    condiciones = [masa, posiciones[1], posiciones[2], posiciones[3], velocidades[1], velocidades[2], velocidades[3]]\n",
    "    return condiciones\n",
    "end"
   ]
  },
  {
   "cell_type": "code",
   "execution_count": 163,
   "metadata": {
    "collapsed": false
   },
   "outputs": [
    {
     "data": {
      "text/plain": [
       "3-element Array{Array{Float64,1},1}:\n",
       " [1.0,0.0,0.0,0.0,0.0,0.0,0.0]            \n",
       " [1.0e-6,1.0,0.0,0.0,0.0,1.0,0.0]         \n",
       " [1.0e-10,1.002577181,0.0,0.0,0.0,2.0,0.0]"
      ]
     },
     "execution_count": 163,
     "metadata": {},
     "output_type": "execute_result"
    }
   ],
   "source": [
    "#Condiciones Iniciales\n",
    "\n",
    "#CondicionesSol    = [MasaSol,     0.,                  0.,   0., 0.,                                 0.2, 0. ]\n",
    "CondicionesSol = iniciar(MasaSol, PosicionInicialSol, [0.,0.,0.,])\n",
    "CondicionesTierra = iniciar(MasaTierra, PosicionInicialTierra, [0., VelocidadTraslacional_TierraSol, 0.])\n",
    "CondicionesLuna   = iniciar(MasaLuna, PosicionInicialLuna, [0., VelocidadLuna_inicial, 0.])\n",
    "\n",
    "#Agrupamos Todo\n",
    "\n",
    "CondicionesIniciales = typeof(CondicionesSol)[CondicionesSol, CondicionesTierra, CondicionesLuna]"
   ]
  },
  {
   "cell_type": "code",
   "execution_count": 164,
   "metadata": {
    "collapsed": false
   },
   "outputs": [],
   "source": [
    "t, Sol, Tierra, Luna = Integrador3(CondicionesIniciales, 1000.);"
   ]
  },
  {
   "cell_type": "code",
   "execution_count": 165,
   "metadata": {
    "collapsed": false
   },
   "outputs": [
    {
     "data": {
      "text/plain": [
       "2012-element Array{Float64,1}:\n",
       "    0.0        \n",
       "    0.000882345\n",
       "    0.00181985 \n",
       "    0.00291882 \n",
       "    0.00427503 \n",
       "    0.00599272 \n",
       "    0.00822616 \n",
       "    0.0111841  \n",
       "    0.0153824  \n",
       "    0.0207276  \n",
       "    0.0283221  \n",
       "    0.0382225  \n",
       "    0.0513533  \n",
       "    ⋮          \n",
       "  993.184      \n",
       "  993.501      \n",
       "  993.897      \n",
       "  994.356      \n",
       "  994.955      \n",
       "  995.636      \n",
       "  996.452      \n",
       "  997.217      \n",
       "  997.941      \n",
       "  998.759      \n",
       "  999.728      \n",
       " 1000.97       "
      ]
     },
     "execution_count": 165,
     "metadata": {},
     "output_type": "execute_result"
    }
   ],
   "source": [
    "t"
   ]
  },
  {
   "cell_type": "code",
   "execution_count": 166,
   "metadata": {
    "collapsed": false
   },
   "outputs": [],
   "source": [
    "PosicionSol = Sol[1]\n",
    "VelocidadSol = Sol[2]\n",
    "\n",
    "PosicionTierra = Tierra[1]\n",
    "VelocidadTierra = Tierra[2]\n",
    "\n",
    "PosicionLuna = Luna[1]\n",
    "VelocidadLuna = Luna[2];"
   ]
  },
  {
   "cell_type": "code",
   "execution_count": null,
   "metadata": {
    "collapsed": false
   },
   "outputs": [],
   "source": [
    "anima3C(Sol, Tierra, Luna, \"Sistema2\",1)"
   ]
  },
  {
   "cell_type": "code",
   "execution_count": null,
   "metadata": {
    "collapsed": false
   },
   "outputs": [],
   "source": [
    "muestra_animacion(\"Sistema2\")"
   ]
  },
  {
   "cell_type": "code",
   "execution_count": null,
   "metadata": {
    "collapsed": true
   },
   "outputs": [],
   "source": []
  }
 ],
 "metadata": {
  "kernelspec": {
   "display_name": "Julia 0.4.3",
   "language": "julia",
   "name": "julia-0.4"
  },
  "language_info": {
   "file_extension": ".jl",
   "mimetype": "application/julia",
   "name": "julia",
   "version": "0.4.3"
  }
 },
 "nbformat": 4,
 "nbformat_minor": 0
}
