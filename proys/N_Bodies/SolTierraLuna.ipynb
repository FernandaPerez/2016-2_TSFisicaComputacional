{
 "cells": [
  {
   "cell_type": "code",
   "execution_count": 1,
   "metadata": {
    "collapsed": false
   },
   "outputs": [
    {
     "data": {
      "text/plain": [
       "Energia_3 (generic function with 1 method)"
      ]
     },
     "execution_count": 1,
     "metadata": {},
     "output_type": "execute_result"
    }
   ],
   "source": [
    "include(\"ProyectoFinal.jl\")"
   ]
  },
  {
   "cell_type": "markdown",
   "metadata": {},
   "source": [
    "## Sistema Sol - Tierra - Luna\n",
    "\n",
    "Para el sistema de 3 cuerpos formado por el Sol, la Tierra y la Luna, consideramos una posición inicial colineal, con las distancias equivalentes a las distancias astronómicas reportadas.\n",
    "\n",
    "Usamos también datos concernientes a las masas."
   ]
  },
  {
   "cell_type": "code",
   "execution_count": 25,
   "metadata": {
    "collapsed": false
   },
   "outputs": [
    {
     "data": {
      "text/plain": [
       "2972.0"
      ]
     },
     "execution_count": 25,
     "metadata": {},
     "output_type": "execute_result"
    }
   ],
   "source": [
    "MasaSol = 1.989e30\n",
    "MasaTierra = 5.972e24\n",
    "MasaLuna = 7.35e22\n",
    "\n",
    "Distancia_TierraSol = 1.496e11\n",
    "Distancia_TierraLuna = 3.844e8\n",
    "Distancia_LunaSol_inicial= Distancia_TierraSol + Distancia_TierraLuna\n",
    "\n",
    "VelocidadTraslacional_TierraSol = 2972.0\n",
    "VelocidadTraslacional_TierraLuna = 0.\n",
    "VelocidadLuna_inicial = VelocidadTraslacional_TierraSol + VelocidadTraslacional_TierraLuna\n"
   ]
  },
  {
   "cell_type": "code",
   "execution_count": 26,
   "metadata": {
    "collapsed": false
   },
   "outputs": [
    {
     "data": {
      "text/plain": [
       "3-element Array{Array{Float64,1},1}:\n",
       " [1.989e30,0.0,0.0,0.0,0.0,0.0,0.0]        \n",
       " [5.972e24,1.496e11,0.0,0.0,0.0,2972.0,0.0]\n",
       " [7.35e22,1.499844e11,0.0,0.0,0.0,0.0,0.0] "
      ]
     },
     "execution_count": 26,
     "metadata": {},
     "output_type": "execute_result"
    }
   ],
   "source": [
    "#Condiciones Iniciales\n",
    "\n",
    "CondicionesSol    = [MasaSol,     0.,                  0.,   0., 0.,                                 0., 0. ]\n",
    "CondicionesTierra = [MasaTierra,  Distancia_TierraSol, 0.,   0., 0., VelocidadTraslacional_TierraSol, 0. ]\n",
    "CondicionesLuna   = [MasaLuna,    Distancia_LunaSol_inicial, 0., 0., 0., VelocidadTraslacional_TierraLuna, 0.,  ]\n",
    "\n",
    "#Agrupamos Todo\n",
    "\n",
    "CondicionesIniciales = typeof(CondicionesSol)[CondicionesSol, CondicionesTierra, CondicionesLuna]"
   ]
  },
  {
   "cell_type": "code",
   "execution_count": 27,
   "metadata": {
    "collapsed": false
   },
   "outputs": [],
   "source": [
    "t, Sol, Tierra, Luna = Integrador3(CondicionesIniciales, 100.);"
   ]
  },
  {
   "cell_type": "code",
   "execution_count": 28,
   "metadata": {
    "collapsed": false
   },
   "outputs": [
    {
     "data": {
      "text/plain": [
       "201-element Array{Float64,1}:\n",
       "  0.0    \n",
       "  1.43408\n",
       "  2.77593\n",
       "  3.99734\n",
       "  5.10871\n",
       "  6.11989\n",
       "  7.03989\n",
       "  7.8769 \n",
       "  8.63836\n",
       "  9.33107\n",
       "  9.96122\n",
       " 10.5344 \n",
       " 11.0558 \n",
       "  ⋮      \n",
       " 16.2821 \n",
       " 16.2821 \n",
       " 16.2821 \n",
       " 16.2821 \n",
       " 16.2821 \n",
       " 16.2821 \n",
       " 16.2821 \n",
       " 16.2821 \n",
       " 16.2821 \n",
       " 16.2821 \n",
       " 16.2821 \n",
       " 16.2821 "
      ]
     },
     "execution_count": 28,
     "metadata": {},
     "output_type": "execute_result"
    }
   ],
   "source": [
    "t"
   ]
  },
  {
   "cell_type": "code",
   "execution_count": 19,
   "metadata": {
    "collapsed": false
   },
   "outputs": [],
   "source": [
    "PosicionSol = Sol[1]\n",
    "VelocidadSol = Sol[2]\n",
    "\n",
    "PosicionTierra = Tierra[1]\n",
    "VelocidadTierra = Tierra[2]\n",
    "\n",
    "PosicionLuna = Luna[1]\n",
    "VelocidadLuna = Luna[2];"
   ]
  },
  {
   "cell_type": "code",
   "execution_count": 20,
   "metadata": {
    "collapsed": false
   },
   "outputs": [
    {
     "data": {
      "text/plain": [
       "201-element Array{Float64,1}:\n",
       "  0.0    \n",
       "  1.43408\n",
       "  2.77593\n",
       "  3.99734\n",
       "  5.10871\n",
       "  6.11989\n",
       "  7.03989\n",
       "  7.8769 \n",
       "  8.63836\n",
       "  9.33107\n",
       "  9.96122\n",
       " 10.5344 \n",
       " 11.0558 \n",
       "  ⋮      \n",
       " 16.2821 \n",
       " 16.2821 \n",
       " 16.2821 \n",
       " 16.2821 \n",
       " 16.2821 \n",
       " 16.2821 \n",
       " 16.2821 \n",
       " 16.2821 \n",
       " 16.2821 \n",
       " 16.2821 \n",
       " 16.2821 \n",
       " 16.2821 "
      ]
     },
     "execution_count": 20,
     "metadata": {},
     "output_type": "execute_result"
    }
   ],
   "source": [
    "t"
   ]
  },
  {
   "cell_type": "code",
   "execution_count": null,
   "metadata": {
    "collapsed": false
   },
   "outputs": [],
   "source": [
    "anima3C(Sol, Tierra, Luna, \"SistemaLuna\")"
   ]
  },
  {
   "cell_type": "code",
   "execution_count": null,
   "metadata": {
    "collapsed": false
   },
   "outputs": [],
   "source": [
    "muestra_animacion(\"SistemaLuna\")"
   ]
  },
  {
   "cell_type": "code",
   "execution_count": null,
   "metadata": {
    "collapsed": false
   },
   "outputs": [],
   "source": [
    "t"
   ]
  },
  {
   "cell_type": "code",
   "execution_count": null,
   "metadata": {
    "collapsed": true
   },
   "outputs": [],
   "source": []
  }
 ],
 "metadata": {
  "kernelspec": {
   "display_name": "Julia 0.4.5",
   "language": "julia",
   "name": "julia-0.4"
  },
  "language_info": {
   "file_extension": ".jl",
   "mimetype": "application/julia",
   "name": "julia",
   "version": "0.4.5"
  }
 },
 "nbformat": 4,
 "nbformat_minor": 0
}
